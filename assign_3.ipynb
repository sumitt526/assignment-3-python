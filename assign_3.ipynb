{
 "cells": [
  {
   "cell_type": "code",
   "execution_count": 3,
   "id": "749745ce-2175-43d4-bcf6-663504292f88",
   "metadata": {},
   "outputs": [
    {
     "name": "stdout",
     "output_type": "stream",
     "text": [
      "1\n",
      "2\n",
      "3\n",
      "4\n",
      "5\n",
      "6\n",
      "0\n",
      "1\n",
      "2\n",
      "3\n",
      "4\n",
      "5\n",
      "6\n",
      "7\n",
      "8\n",
      "rest values are bigger than 8\n"
     ]
    }
   ],
   "source": [
    "#qsn 1 solution:-\n",
    "\n",
    "\"\"\" while loop is used when we don't know the no of times it is going to iterarte.\n",
    "    while loop is used to repeat the block of statement till the condition is satisfied or till the comdition is true.\n",
    "    as soon the condition gets false the loop terminates itself\"\"\"\n",
    "#ex:_\n",
    "i = 0\n",
    "while i <= 5:\n",
    "    i += 1\n",
    "    print(i)\n",
    "    \n",
    "    \n",
    "\"\"\"for loop is used when we generally know how many times to iterate a code.\n",
    "   for loop iterate itself until the conditon provided is met.\"\"\"\n",
    "#ex:_\n",
    "\n",
    "for i in range(10):\n",
    "    if i<=8:\n",
    "        print(i)\n",
    "    else:\n",
    "        print(\"rest values are bigger than 8\")"
   ]
  },
  {
   "cell_type": "code",
   "execution_count": 6,
   "id": "7473c24e-342d-43fb-b67f-22c9f1f71ddc",
   "metadata": {},
   "outputs": [
    {
     "name": "stdout",
     "output_type": "stream",
     "text": [
      "the sum of first 10 natural number is:- 55\n",
      "the product of first 10 natural number is:- 3628800\n"
     ]
    }
   ],
   "source": [
    "#qsn 2 solution:-\n",
    "\n",
    "l = 0\n",
    "for i in range(11):\n",
    "    l += i\n",
    "print(\"the sum of first 10 natural number is:-\", l)\n",
    "\n",
    "n = 1\n",
    "product = 1\n",
    "while n < 11:\n",
    "    product = product * n\n",
    "    n += 1\n",
    "print(\"the product of first 10 natural number is:-\", product)"
   ]
  },
  {
   "cell_type": "code",
   "execution_count": 25,
   "id": "33ee6f67-7934-4e16-ab3a-ff5e9916bc60",
   "metadata": {},
   "outputs": [
    {
     "name": "stdin",
     "output_type": "stream",
     "text": [
      "enter the unit of electricity consumed:-  310\n"
     ]
    },
    {
     "name": "stdout",
     "output_type": "stream",
     "text": [
      "your electricity bill is:-  2250.0\n"
     ]
    }
   ],
   "source": [
    "#qsn 3 solution:-\n",
    "\n",
    "unit_consumed = int(input(\"enter the unit of electricity consumed:- \"))\n",
    "if unit_consumed <= 100:\n",
    "    unit_consumed = unit_consumed * 4.5\n",
    "    print(\"your electricity bill is:- \", unit_consumed)\n",
    "elif unit_consumed > 100 and unit_consumed <= 200:\n",
    "    unit_consumed = 100 * 4.5 + (unit_consumed - 100) * 6\n",
    "    print(\"your electricity bill is:- \", unit_consumed)\n",
    "elif unit_consumed > 200 and unit_consumed <= 300:\n",
    "    unit_consumed = 100 * 4.5 + 100 * 6 + (unit_consumed - 200) * 10\n",
    "    print(\"your electricity bill is:- \", unit_consumed)\n",
    "else:\n",
    "    unit_consumed = 100 * 4.5 + 100 * 6 + 100 * 10 + (unit_consumed - 300) * 20\n",
    "    print(\"your electricity bill is:- \", unit_consumed)"
   ]
  },
  {
   "cell_type": "code",
   "execution_count": 1,
   "id": "172bddfb-560d-40fc-b300-a473336e4db7",
   "metadata": {},
   "outputs": [
    {
     "name": "stdout",
     "output_type": "stream",
     "text": [
      "[8, 64, 125, 216, 512, 1000, 1728, 2744, 3375, 4096, 5832, 8000, 10648, 13824, 15625, 17576, 21952, 27000, 32768, 39304, 42875, 46656, 54872, 64000, 74088, 85184, 91125, 97336, 110592, 125000, 140608, 157464, 166375, 175616, 195112, 216000, 238328, 262144, 274625, 287496, 314432, 343000, 373248, 405224, 421875, 438976, 474552, 512000, 551368, 592704, 614125, 636056, 681472, 729000, 778688, 830584, 857375, 884736, 941192, 1000000]\n"
     ]
    }
   ],
   "source": [
    "#qsn 4 solution:-\n",
    "\n",
    "l1 = []\n",
    "l = list(range(1,101))\n",
    "for i in l:\n",
    "    cube = i**3\n",
    "    if cube % 4 == 0 or cube % 5 == 0:\n",
    "        l1.append(cube)\n",
    "print(l1)"
   ]
  },
  {
   "cell_type": "code",
   "execution_count": 52,
   "id": "c8bec4dd-6191-48dd-98ba-3b7976b020fd",
   "metadata": {},
   "outputs": [
    {
     "name": "stdout",
     "output_type": "stream",
     "text": [
      "number of vowels in given sentense:-  12\n"
     ]
    }
   ],
   "source": [
    "#qsn 5 solution:-\n",
    "\n",
    "string = \"I want to become a data scientist\"\n",
    "s1 = string.lower()\n",
    "l1 = [\"a\",\"e\",\"i\",\"o\",\"u\"]\n",
    "count = 0\n",
    "for i in s1:\n",
    "    if i in l1:\n",
    "        count += 1\n",
    "print(\"number of vowels in given sentense:- \", count)"
   ]
  },
  {
   "cell_type": "code",
   "execution_count": null,
   "id": "afbc6d6c-931f-4115-9f8e-d1261f63df6e",
   "metadata": {},
   "outputs": [],
   "source": []
  }
 ],
 "metadata": {
  "kernelspec": {
   "display_name": "Python 3 (ipykernel)",
   "language": "python",
   "name": "python3"
  },
  "language_info": {
   "codemirror_mode": {
    "name": "ipython",
    "version": 3
   },
   "file_extension": ".py",
   "mimetype": "text/x-python",
   "name": "python",
   "nbconvert_exporter": "python",
   "pygments_lexer": "ipython3",
   "version": "3.10.8"
  }
 },
 "nbformat": 4,
 "nbformat_minor": 5
}
